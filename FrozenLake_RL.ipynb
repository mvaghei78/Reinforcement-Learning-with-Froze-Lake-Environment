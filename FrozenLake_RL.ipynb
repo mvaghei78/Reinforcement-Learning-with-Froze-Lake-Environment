{
  "nbformat": 4,
  "nbformat_minor": 0,
  "metadata": {
    "colab": {
      "provenance": []
    },
    "kernelspec": {
      "name": "python3",
      "display_name": "Python 3"
    },
    "language_info": {
      "name": "python"
    }
  },
  "cells": [
    {
      "cell_type": "markdown",
      "source": [
        "# install necessarly libraries"
      ],
      "metadata": {
        "id": "3mKwk1Z8TrWg"
      }
    },
    {
      "cell_type": "code",
      "source": [
        "!pip install --upgrade setuptools==65.5.0\n",
        "!pip install git+https://github.com/carlosluis/stable-baselines3@fix_tests\n",
        "!pip install --upgrade gym==0.21.0\n",
        "# !pip install box2d-py\n",
        "# !pip install gym[box2d]"
      ],
      "metadata": {
        "colab": {
          "base_uri": "https://localhost:8080/"
        },
        "id": "_l54ORaLTxyh",
        "outputId": "c2160307-8c49-4a73-c128-5fb3cdc99125"
      },
      "execution_count": null,
      "outputs": [
        {
          "output_type": "stream",
          "name": "stdout",
          "text": [
            "Looking in indexes: https://pypi.org/simple, https://us-python.pkg.dev/colab-wheels/public/simple/\n",
            "Collecting setuptools==65.5.0\n",
            "  Downloading setuptools-65.5.0-py3-none-any.whl (1.2 MB)\n",
            "\u001b[2K     \u001b[90m━━━━━━━━━━━━━━━━━━━━━━━━━━━━━━━━━━━━━━━━\u001b[0m \u001b[32m1.2/1.2 MB\u001b[0m \u001b[31m22.2 MB/s\u001b[0m eta \u001b[36m0:00:00\u001b[0m\n",
            "\u001b[?25hInstalling collected packages: setuptools\n",
            "  Attempting uninstall: setuptools\n",
            "    Found existing installation: setuptools 67.6.1\n",
            "    Uninstalling setuptools-67.6.1:\n",
            "      Successfully uninstalled setuptools-67.6.1\n",
            "\u001b[31mERROR: pip's dependency resolver does not currently take into account all the packages that are installed. This behaviour is the source of the following dependency conflicts.\n",
            "ipython 7.34.0 requires jedi>=0.16, which is not installed.\n",
            "cvxpy 1.3.1 requires setuptools>65.5.1, but you have setuptools 65.5.0 which is incompatible.\u001b[0m\u001b[31m\n",
            "\u001b[0mSuccessfully installed setuptools-65.5.0\n",
            "Looking in indexes: https://pypi.org/simple, https://us-python.pkg.dev/colab-wheels/public/simple/\n",
            "Collecting git+https://github.com/carlosluis/stable-baselines3@fix_tests\n",
            "  Cloning https://github.com/carlosluis/stable-baselines3 (to revision fix_tests) to /tmp/pip-req-build-zw3jbvds\n",
            "  Running command git clone --filter=blob:none --quiet https://github.com/carlosluis/stable-baselines3 /tmp/pip-req-build-zw3jbvds\n",
            "  Running command git checkout -b fix_tests --track origin/fix_tests\n",
            "  Switched to a new branch 'fix_tests'\n",
            "  Branch 'fix_tests' set up to track remote branch 'fix_tests' from 'origin'.\n",
            "  Resolved https://github.com/carlosluis/stable-baselines3 to commit 6617e6e73cb3a70f3e88cea780ea12bed95c099e\n",
            "  Installing build dependencies ... \u001b[?25l\u001b[?25hdone\n",
            "  Getting requirements to build wheel ... \u001b[?25l\u001b[?25hdone\n",
            "  Preparing metadata (pyproject.toml) ... \u001b[?25l\u001b[?25hdone\n",
            "Requirement already satisfied: torch>=1.11 in /usr/local/lib/python3.9/dist-packages (from stable-baselines3==2.0.0a0) (2.0.0+cu118)\n",
            "Collecting importlib-metadata~=4.13\n",
            "  Downloading importlib_metadata-4.13.0-py3-none-any.whl (23 kB)\n",
            "Requirement already satisfied: pandas in /usr/local/lib/python3.9/dist-packages (from stable-baselines3==2.0.0a0) (1.5.3)\n",
            "Requirement already satisfied: cloudpickle in /usr/local/lib/python3.9/dist-packages (from stable-baselines3==2.0.0a0) (2.2.1)\n",
            "Collecting gym==0.26.2\n",
            "  Downloading gym-0.26.2.tar.gz (721 kB)\n",
            "\u001b[2K     \u001b[90m━━━━━━━━━━━━━━━━━━━━━━━━━━━━━━━━━━━━━━\u001b[0m \u001b[32m721.7/721.7 kB\u001b[0m \u001b[31m42.5 MB/s\u001b[0m eta \u001b[36m0:00:00\u001b[0m\n",
            "\u001b[?25h  Installing build dependencies ... \u001b[?25l\u001b[?25hdone\n",
            "  Getting requirements to build wheel ... \u001b[?25l\u001b[?25hdone\n",
            "  Preparing metadata (pyproject.toml) ... \u001b[?25l\u001b[?25hdone\n",
            "Requirement already satisfied: matplotlib in /usr/local/lib/python3.9/dist-packages (from stable-baselines3==2.0.0a0) (3.7.1)\n",
            "Requirement already satisfied: numpy in /usr/local/lib/python3.9/dist-packages (from stable-baselines3==2.0.0a0) (1.22.4)\n",
            "Requirement already satisfied: gym-notices>=0.0.4 in /usr/local/lib/python3.9/dist-packages (from gym==0.26.2->stable-baselines3==2.0.0a0) (0.0.8)\n",
            "Requirement already satisfied: zipp>=0.5 in /usr/local/lib/python3.9/dist-packages (from importlib-metadata~=4.13->stable-baselines3==2.0.0a0) (3.15.0)\n",
            "Requirement already satisfied: jinja2 in /usr/local/lib/python3.9/dist-packages (from torch>=1.11->stable-baselines3==2.0.0a0) (3.1.2)\n",
            "Requirement already satisfied: triton==2.0.0 in /usr/local/lib/python3.9/dist-packages (from torch>=1.11->stable-baselines3==2.0.0a0) (2.0.0)\n",
            "Requirement already satisfied: sympy in /usr/local/lib/python3.9/dist-packages (from torch>=1.11->stable-baselines3==2.0.0a0) (1.11.1)\n",
            "Requirement already satisfied: networkx in /usr/local/lib/python3.9/dist-packages (from torch>=1.11->stable-baselines3==2.0.0a0) (3.1)\n",
            "Requirement already satisfied: filelock in /usr/local/lib/python3.9/dist-packages (from torch>=1.11->stable-baselines3==2.0.0a0) (3.11.0)\n",
            "Requirement already satisfied: typing-extensions in /usr/local/lib/python3.9/dist-packages (from torch>=1.11->stable-baselines3==2.0.0a0) (4.5.0)\n",
            "Requirement already satisfied: lit in /usr/local/lib/python3.9/dist-packages (from triton==2.0.0->torch>=1.11->stable-baselines3==2.0.0a0) (16.0.1)\n",
            "Requirement already satisfied: cmake in /usr/local/lib/python3.9/dist-packages (from triton==2.0.0->torch>=1.11->stable-baselines3==2.0.0a0) (3.25.2)\n",
            "Requirement already satisfied: python-dateutil>=2.7 in /usr/local/lib/python3.9/dist-packages (from matplotlib->stable-baselines3==2.0.0a0) (2.8.2)\n",
            "Requirement already satisfied: pyparsing>=2.3.1 in /usr/local/lib/python3.9/dist-packages (from matplotlib->stable-baselines3==2.0.0a0) (3.0.9)\n",
            "Requirement already satisfied: importlib-resources>=3.2.0 in /usr/local/lib/python3.9/dist-packages (from matplotlib->stable-baselines3==2.0.0a0) (5.12.0)\n",
            "Requirement already satisfied: cycler>=0.10 in /usr/local/lib/python3.9/dist-packages (from matplotlib->stable-baselines3==2.0.0a0) (0.11.0)\n",
            "Requirement already satisfied: kiwisolver>=1.0.1 in /usr/local/lib/python3.9/dist-packages (from matplotlib->stable-baselines3==2.0.0a0) (1.4.4)\n",
            "Requirement already satisfied: contourpy>=1.0.1 in /usr/local/lib/python3.9/dist-packages (from matplotlib->stable-baselines3==2.0.0a0) (1.0.7)\n",
            "Requirement already satisfied: packaging>=20.0 in /usr/local/lib/python3.9/dist-packages (from matplotlib->stable-baselines3==2.0.0a0) (23.0)\n",
            "Requirement already satisfied: fonttools>=4.22.0 in /usr/local/lib/python3.9/dist-packages (from matplotlib->stable-baselines3==2.0.0a0) (4.39.3)\n",
            "Requirement already satisfied: pillow>=6.2.0 in /usr/local/lib/python3.9/dist-packages (from matplotlib->stable-baselines3==2.0.0a0) (8.4.0)\n",
            "Requirement already satisfied: pytz>=2020.1 in /usr/local/lib/python3.9/dist-packages (from pandas->stable-baselines3==2.0.0a0) (2022.7.1)\n",
            "Requirement already satisfied: six>=1.5 in /usr/local/lib/python3.9/dist-packages (from python-dateutil>=2.7->matplotlib->stable-baselines3==2.0.0a0) (1.16.0)\n",
            "Requirement already satisfied: MarkupSafe>=2.0 in /usr/local/lib/python3.9/dist-packages (from jinja2->torch>=1.11->stable-baselines3==2.0.0a0) (2.1.2)\n",
            "Requirement already satisfied: mpmath>=0.19 in /usr/local/lib/python3.9/dist-packages (from sympy->torch>=1.11->stable-baselines3==2.0.0a0) (1.3.0)\n",
            "Building wheels for collected packages: stable-baselines3, gym\n",
            "  Building wheel for stable-baselines3 (pyproject.toml) ... \u001b[?25l\u001b[?25hdone\n",
            "  Created wheel for stable-baselines3: filename=stable_baselines3-2.0.0a0-py3-none-any.whl size=174580 sha256=9403a32eec84b222394fb0d3aad86e6ec59f102d7f64e8f6635a6c05be7e94c9\n",
            "  Stored in directory: /tmp/pip-ephem-wheel-cache-hjyq5129/wheels/45/e4/e6/da2b2d641c88de7ec231e5497ef596156690a2fe562cb49ffb\n",
            "  Building wheel for gym (pyproject.toml) ... \u001b[?25l\u001b[?25hdone\n",
            "  Created wheel for gym: filename=gym-0.26.2-py3-none-any.whl size=827653 sha256=c219f4f4faa3b1ece85ff5376b3c0e7eb885e4effba3d526dbcf0f7edcd941cc\n",
            "  Stored in directory: /root/.cache/pip/wheels/af/2b/30/5e78b8b9599f2a2286a582b8da80594f654bf0e18d825a4405\n",
            "Successfully built stable-baselines3 gym\n",
            "Installing collected packages: importlib-metadata, gym, stable-baselines3\n",
            "  Attempting uninstall: importlib-metadata\n",
            "    Found existing installation: importlib-metadata 6.3.0\n",
            "    Uninstalling importlib-metadata-6.3.0:\n",
            "      Successfully uninstalled importlib-metadata-6.3.0\n",
            "  Attempting uninstall: gym\n",
            "    Found existing installation: gym 0.25.2\n",
            "    Uninstalling gym-0.25.2:\n",
            "      Successfully uninstalled gym-0.25.2\n",
            "\u001b[31mERROR: pip's dependency resolver does not currently take into account all the packages that are installed. This behaviour is the source of the following dependency conflicts.\n",
            "dopamine-rl 4.0.6 requires gym<=0.25.2, but you have gym 0.26.2 which is incompatible.\u001b[0m\u001b[31m\n",
            "\u001b[0mSuccessfully installed gym-0.26.2 importlib-metadata-4.13.0 stable-baselines3-2.0.0a0\n",
            "Looking in indexes: https://pypi.org/simple, https://us-python.pkg.dev/colab-wheels/public/simple/\n",
            "Collecting gym==0.21.0\n",
            "  Downloading gym-0.21.0.tar.gz (1.5 MB)\n",
            "\u001b[2K     \u001b[90m━━━━━━━━━━━━━━━━━━━━━━━━━━━━━━━━━━━━━━━━\u001b[0m \u001b[32m1.5/1.5 MB\u001b[0m \u001b[31m48.5 MB/s\u001b[0m eta \u001b[36m0:00:00\u001b[0m\n",
            "\u001b[?25h  Preparing metadata (setup.py) ... \u001b[?25l\u001b[?25hdone\n",
            "Requirement already satisfied: numpy>=1.18.0 in /usr/local/lib/python3.9/dist-packages (from gym==0.21.0) (1.22.4)\n",
            "Requirement already satisfied: cloudpickle>=1.2.0 in /usr/local/lib/python3.9/dist-packages (from gym==0.21.0) (2.2.1)\n",
            "Building wheels for collected packages: gym\n",
            "  \u001b[1;31merror\u001b[0m: \u001b[1msubprocess-exited-with-error\u001b[0m\n",
            "  \n",
            "  \u001b[31m×\u001b[0m \u001b[32mpython setup.py bdist_wheel\u001b[0m did not run successfully.\n",
            "  \u001b[31m│\u001b[0m exit code: \u001b[1;36m1\u001b[0m\n",
            "  \u001b[31m╰─>\u001b[0m See above for output.\n",
            "  \n",
            "  \u001b[1;35mnote\u001b[0m: This error originates from a subprocess, and is likely not a problem with pip.\n",
            "  Building wheel for gym (setup.py) ... \u001b[?25lerror\n",
            "\u001b[31m  ERROR: Failed building wheel for gym\u001b[0m\u001b[31m\n",
            "\u001b[0m\u001b[?25h  Running setup.py clean for gym\n",
            "Failed to build gym\n",
            "Installing collected packages: gym\n",
            "  Attempting uninstall: gym\n",
            "    Found existing installation: gym 0.26.2\n",
            "    Uninstalling gym-0.26.2:\n",
            "      Successfully uninstalled gym-0.26.2\n",
            "  Running setup.py install for gym ... \u001b[?25l\u001b[?25hdone\n",
            "\u001b[33m  DEPRECATION: gym was installed using the legacy 'setup.py install' method, because a wheel could not be built for it. pip 23.1 will enforce this behaviour change. A possible replacement is to fix the wheel build issue reported above. Discussion can be found at https://github.com/pypa/pip/issues/8368\u001b[0m\u001b[33m\n",
            "\u001b[0m\u001b[31mERROR: pip's dependency resolver does not currently take into account all the packages that are installed. This behaviour is the source of the following dependency conflicts.\n",
            "stable-baselines3 2.0.0a0 requires gym==0.26.2, but you have gym 0.21.0 which is incompatible.\u001b[0m\u001b[31m\n",
            "\u001b[0mSuccessfully installed gym-0.21.0\n"
          ]
        }
      ]
    },
    {
      "cell_type": "code",
      "source": [
        "!pip install gym pyvirtualdisplay > /dev/null 2>&1\n",
        "!apt-get install -y xvfb python-opengl ffmpeg > /dev/null 2>&1\n",
        "!pip install --upgrade \"importlib_metadata<5.0\"\n",
        "!pip install pyglet==1.4.11\n",
        "!apt install swig cmake"
      ],
      "metadata": {
        "colab": {
          "base_uri": "https://localhost:8080/"
        },
        "id": "S2ozC4MCRxYs",
        "outputId": "edb30adb-69b9-4b62-e28d-c28df0ee055e"
      },
      "execution_count": null,
      "outputs": [
        {
          "output_type": "stream",
          "name": "stdout",
          "text": [
            "Looking in indexes: https://pypi.org/simple, https://us-python.pkg.dev/colab-wheels/public/simple/\n",
            "Requirement already satisfied: importlib_metadata<5.0 in /usr/local/lib/python3.9/dist-packages (4.13.0)\n",
            "Requirement already satisfied: zipp>=0.5 in /usr/local/lib/python3.9/dist-packages (from importlib_metadata<5.0) (3.15.0)\n",
            "Looking in indexes: https://pypi.org/simple, https://us-python.pkg.dev/colab-wheels/public/simple/\n",
            "Collecting pyglet==1.4.11\n",
            "  Downloading pyglet-1.4.11-py2.py3-none-any.whl (1.0 MB)\n",
            "\u001b[2K     \u001b[90m━━━━━━━━━━━━━━━━━━━━━━━━━━━━━━━━━━━━━━━━\u001b[0m \u001b[32m1.0/1.0 MB\u001b[0m \u001b[31m46.7 MB/s\u001b[0m eta \u001b[36m0:00:00\u001b[0m\n",
            "\u001b[?25hRequirement already satisfied: future in /usr/local/lib/python3.9/dist-packages (from pyglet==1.4.11) (0.18.3)\n",
            "Installing collected packages: pyglet\n",
            "Successfully installed pyglet-1.4.11\n",
            "Reading package lists... Done\n",
            "Building dependency tree       \n",
            "Reading state information... Done\n",
            "cmake is already the newest version (3.16.3-1ubuntu1.20.04.1).\n",
            "Suggested packages:\n",
            "  swig-doc swig-examples swig4.0-examples swig4.0-doc\n",
            "The following NEW packages will be installed:\n",
            "  swig swig4.0\n",
            "0 upgraded, 2 newly installed, 0 to remove and 24 not upgraded.\n",
            "Need to get 1,086 kB of archives.\n",
            "After this operation, 5,413 kB of additional disk space will be used.\n",
            "Get:1 http://archive.ubuntu.com/ubuntu focal/universe amd64 swig4.0 amd64 4.0.1-5build1 [1,081 kB]\n",
            "Get:2 http://archive.ubuntu.com/ubuntu focal/universe amd64 swig all 4.0.1-5build1 [5,528 B]\n",
            "Fetched 1,086 kB in 0s (8,026 kB/s)\n",
            "Selecting previously unselected package swig4.0.\n",
            "(Reading database ... 125331 files and directories currently installed.)\n",
            "Preparing to unpack .../swig4.0_4.0.1-5build1_amd64.deb ...\n",
            "Unpacking swig4.0 (4.0.1-5build1) ...\n",
            "Selecting previously unselected package swig.\n",
            "Preparing to unpack .../swig_4.0.1-5build1_all.deb ...\n",
            "Unpacking swig (4.0.1-5build1) ...\n",
            "Setting up swig4.0 (4.0.1-5build1) ...\n",
            "Setting up swig (4.0.1-5build1) ...\n",
            "Processing triggers for man-db (2.9.1-1) ...\n"
          ]
        }
      ]
    },
    {
      "cell_type": "markdown",
      "source": [
        "# import libraries"
      ],
      "metadata": {
        "id": "K0wSk4ZzT4i0"
      }
    },
    {
      "cell_type": "code",
      "source": [
        "import gym\n",
        "import numpy as np\n",
        "import matplotlib.pyplot as plt\n",
        "from PIL import Image\n",
        "from pyvirtualdisplay import Display"
      ],
      "metadata": {
        "id": "KgNVEaFaT1Iu"
      },
      "execution_count": null,
      "outputs": []
    },
    {
      "cell_type": "code",
      "source": [
        "gym.__version__"
      ],
      "metadata": {
        "colab": {
          "base_uri": "https://localhost:8080/",
          "height": 35
        },
        "id": "SpKTaI3LUUHE",
        "outputId": "e6402498-33b3-4021-b3de-a0b9320f6515"
      },
      "execution_count": null,
      "outputs": [
        {
          "output_type": "execute_result",
          "data": {
            "text/plain": [
              "'0.21.0'"
            ],
            "application/vnd.google.colaboratory.intrinsic+json": {
              "type": "string"
            }
          },
          "metadata": {},
          "execution_count": 4
        }
      ]
    },
    {
      "cell_type": "markdown",
      "source": [
        "# display output as video"
      ],
      "metadata": {
        "id": "N-jIcPlsVaG9"
      }
    },
    {
      "cell_type": "code",
      "source": [
        "# pyvirtusldisplay is only needed if running on a Colab or Kaggle notebook\n",
        "display = Display(visible=0, size=(1400, 900))\n",
        "display.start()\n",
        "\n",
        "def animate(imgs, video_name=None, _return=True):\n",
        "    # using cv2 to generate videos\n",
        "    import cv2\n",
        "    import os\n",
        "    import string\n",
        "    import random\n",
        "    video_name = video_name if video_name is not None else ''.join(random.choice(string.ascii_letters) for i in range(18))+'.webm'\n",
        "    height, width, layers = imgs[0].shape\n",
        "    video = cv2.VideoWriter(video_name, cv2.VideoWriter_fourcc(*'VP80'), 20, (width,height))\n",
        "    for img in imgs:\n",
        "        img = cv2.cvtColor(img, cv2.COLOR_BGR2RGB)\n",
        "        video.write(img)\n",
        "    video.release()\n",
        "    if _return:\n",
        "        from IPython.display import Video\n",
        "        return Video(video_name)"
      ],
      "metadata": {
        "id": "hu_lSJ6VT-Eg"
      },
      "execution_count": null,
      "outputs": []
    },
    {
      "cell_type": "code",
      "source": [
        "GAMMA = 0.9"
      ],
      "metadata": {
        "id": "p3ZyOEds5fRt"
      },
      "execution_count": null,
      "outputs": []
    },
    {
      "cell_type": "markdown",
      "source": [
        "# Show Policy and Value function with Matplotlib table"
      ],
      "metadata": {
        "id": "bKoQ8CApND_V"
      }
    },
    {
      "cell_type": "code",
      "source": [
        "def show_values_on_table(values , show_policy, nrow = 4, ncol = 4):\n",
        "    table_data = np.zeros((nrow, ncol))\n",
        "    # set the value function values for each state\n",
        "    table_data = np.reshape(value_function, (nrow, ncol))\n",
        "    values = np.reshape(values, (nrow, ncol))\n",
        "    # create a color map for the table cells\n",
        "    cmap = plt.cm.Pastel1\n",
        "    # create a table showing the policy\n",
        "    fig, ax = plt.subplots()\n",
        "    ax.imshow(values, cmap=cmap)\n",
        "    policy_map = dict({0:'←', 1:'↓', 2:'→', 3:'↑'})\n",
        "    # add table cells and labels\n",
        "    for i in range(values.shape[0]):\n",
        "        for j in range(values.shape[1]):\n",
        "            if show_policy:\n",
        "                ax.text(j, i, policy_map[values[i][j]], va='center', ha='center')\n",
        "            else:\n",
        "                ax.text(j, i, \"{:.2f}\".format(values[i][j]), va='center', ha='center')\n",
        "    ax.set_xticks(np.arange(values.shape[1]))\n",
        "    ax.set_yticks(np.arange(values.shape[0]))\n",
        "    ax.set_xticklabels(['1', '2', '3', '4'])\n",
        "    ax.set_yticklabels(['1', '2', '3', '4'])\n",
        "    ax.grid(False)\n",
        "    plt.show()"
      ],
      "metadata": {
        "id": "ZRjRvOT5NKM0"
      },
      "execution_count": null,
      "outputs": []
    },
    {
      "cell_type": "markdown",
      "source": [
        "# Compute Return for Specific Policy"
      ],
      "metadata": {
        "id": "LiGr_ld4_s52"
      }
    },
    {
      "cell_type": "code",
      "source": [
        "def compute_return(env, policy, gamma=0.5, n_episodes=100):\n",
        "    total_return = 0\n",
        "    for episode in range(n_episodes):\n",
        "        state = env.reset()\n",
        "        episode_return = 0\n",
        "        done = False\n",
        "        while not done:\n",
        "            action = policy[state]\n",
        "            next_state, reward, done, _ = env.step(action)\n",
        "            episode_return += reward\n",
        "            state = next_state\n",
        "        total_return += gamma**episode * episode_return\n",
        "    return total_return"
      ],
      "metadata": {
        "id": "aMMsWEEW_r4Y"
      },
      "execution_count": null,
      "outputs": []
    },
    {
      "cell_type": "code",
      "source": [
        "def plot_return(return_values):\n",
        "  plt.plot(range(len(return_values)), return_values)\n",
        "  plt.xlabel('Number of iterations')\n",
        "  plt.ylabel('Return')\n",
        "  plt.title('Return of policy in each iteration')\n",
        "  plt.show()"
      ],
      "metadata": {
        "id": "WUvHZGj7JQCf"
      },
      "execution_count": null,
      "outputs": []
    },
    {
      "cell_type": "markdown",
      "source": [
        "# implement policy iteration"
      ],
      "metadata": {
        "id": "NIEg6lQUYukp"
      }
    },
    {
      "cell_type": "code",
      "source": [
        "# policy evaluation\n",
        "def evaluate_policy(P, nS, nA, value_function, policy, gamma=0.9, tol=1e-4):\n",
        "  while True:\n",
        "    delta = 0\n",
        "    for s in range(nS):\n",
        "      value_s = value_function[s]\n",
        "      policy_s = policy[s]\n",
        "      q = 0\n",
        "      value_function[s] = 0\n",
        "      for prob, s_prime, reward, done in P[s][policy_s]:\n",
        "        v_s_prime = value_function[s_prime]\n",
        "        value_function[s] += prob * (reward + gamma * v_s_prime)\n",
        "      delta = max(delta, abs(value_s - value_function[s]))\n",
        "    if delta < tol:\n",
        "      break\n",
        "  return value_function"
      ],
      "metadata": {
        "id": "XQZEKssFS3Oa"
      },
      "execution_count": null,
      "outputs": []
    },
    {
      "cell_type": "code",
      "source": [
        "# policy improvement\n",
        "def improve_policy(P, nS, nA, value_function, policy, gamma=0.9, tol=1e-4):\n",
        "  policy_stable = True\n",
        "  for s in range(nS):\n",
        "    old_action = policy[s]\n",
        "    q = np.zeros(nA)\n",
        "    for a in range(nA):\n",
        "      for prob, s_prime, reward, done in P[s][a]:\n",
        "        v_s_prime = value_function[s_prime]\n",
        "        q[a] += prob * (reward + gamma * v_s_prime)\n",
        "    policy[s] = np.argmax(q)\n",
        "    if old_action != policy[s]:\n",
        "      policy_stable = False\n",
        "  return policy, policy_stable"
      ],
      "metadata": {
        "id": "vgqHGmmOZJz9"
      },
      "execution_count": null,
      "outputs": []
    },
    {
      "cell_type": "code",
      "source": [
        "def policy_iteration(P, nS, nA, gamma=0.9, tol=1e-4):\n",
        "    '''\n",
        "    parameters:\n",
        "        P: transition probability matrix\n",
        "        nS: number of states\n",
        "        nA: number of actions\n",
        "        gamma: discount factor\n",
        "        tol: tolerance for convergence\n",
        "    returns:\n",
        "        value_function: value function for each state\n",
        "        policy: policy for each state\n",
        "    '''\n",
        "    # initialize value function and policy\n",
        "    value_function = np.zeros(nS)\n",
        "    policy = np.zeros(nS, dtype=int)\n",
        "    return_of_policy = []\n",
        "    # Implement policy iteration here #\n",
        "    while True:\n",
        "      value_function = evaluate_policy(P, nS, nA, value_function, policy, gamma, tol)\n",
        "      policy, policy_stable = improve_policy(P, nS, nA, value_function, policy, gamma, tol)\n",
        "      return_of_policy.append(compute_return(env, policy, gamma=gamma))\n",
        "      if policy_stable:\n",
        "          plot_return(return_of_policy)\n",
        "          return value_function, policy"
      ],
      "metadata": {
        "id": "g0eydGAYY2DL"
      },
      "execution_count": null,
      "outputs": []
    },
    {
      "cell_type": "code",
      "source": [
        "from gym.envs.toy_text import frozen_lake\n",
        "class CustomFrozenLakeEnv(frozen_lake.FrozenLakeEnv):\n",
        "    def __init__(self, **kwargs):\n",
        "        super().__init__(**kwargs)\n",
        "\n",
        "    def step(self, action):\n",
        "        state, reward, done, info = super().step(action)\n",
        "        if done == True and state != 15:\n",
        "          reward = -2 # Set the reward for Holes\n",
        "        else:\n",
        "          reward = 0  # Set the reward for each step\n",
        "        return state, reward, done, info\n",
        "\n",
        "\n",
        "# Register the custom environment\n",
        "gym.envs.register(\n",
        "    id='CustomFrozenLake-v1',\n",
        "    entry_point='__main__:CustomFrozenLakeEnv',\n",
        "    kwargs={'map_name': '4x4', 'is_slippery': True}\n",
        ")\n",
        "\n",
        "# Create an instance of the custom environment\n",
        "env = gym.make('CustomFrozenLake-v1')\n",
        "value_function, policy = policy_iteration(env.P, env.nS, env.nA, gamma=0.1, tol=1e-4)"
      ],
      "metadata": {
        "colab": {
          "base_uri": "https://localhost:8080/",
          "height": 472
        },
        "id": "iB9s4Td5IB94",
        "outputId": "8f471c7d-4eb6-4da1-ca34-b1ede41f0621"
      },
      "execution_count": null,
      "outputs": [
        {
          "output_type": "display_data",
          "data": {
            "text/plain": [
              "<Figure size 640x480 with 1 Axes>"
            ],
            "image/png": "[encoded data removed]"
          },
          "metadata": {}
        }
      ]
    },
    {
      "cell_type": "code",
      "source": [
        "# env = gym.make(\"FrozenLake-v1\", is_slippery=True)\n",
        "# # reset environment to start state\n",
        "# env.reset()\n",
        "# # run value iteration algorithm\n",
        "# value_function, policy = policy_iteration(env.P, env.nS, env.nA, gamma=0.1, tol=1e-4)"
      ],
      "metadata": {
        "id": "9Kr700syV-H6"
      },
      "execution_count": null,
      "outputs": []
    },
    {
      "cell_type": "code",
      "source": [
        "show_values_on_table(policy, show_policy = True)"
      ],
      "metadata": {
        "colab": {
          "base_uri": "https://localhost:8080/",
          "height": 430
        },
        "id": "rZEFxIg7EhU2",
        "outputId": "f9f4f63f-8f58-4494-bc0b-da64fbf96640"
      },
      "execution_count": null,
      "outputs": [
        {
          "output_type": "display_data",
          "data": {
            "text/plain": [
              "<Figure size 640x480 with 1 Axes>"
            ],
            "image/png": "[encoded data removed]"
          },
          "metadata": {}
        }
      ]
    },
    {
      "cell_type": "code",
      "source": [
        "show_values_on_table(value_function, show_policy = False)"
      ],
      "metadata": {
        "colab": {
          "base_uri": "https://localhost:8080/",
          "height": 430
        },
        "id": "rALcMWseLcer",
        "outputId": "58b94866-6d98-445a-ff3c-f62b58db134c"
      },
      "execution_count": null,
      "outputs": [
        {
          "output_type": "display_data",
          "data": {
            "text/plain": [
              "<Figure size 640x480 with 1 Axes>"
            ],
            "image/png": "[encoded data removed]"
          },
          "metadata": {}
        }
      ]
    },
    {
      "cell_type": "markdown",
      "source": [
        "# implement value iteration"
      ],
      "metadata": {
        "id": "qSL9O-OP9htH"
      }
    },
    {
      "cell_type": "code",
      "source": [
        "# policy evaluation\n",
        "def evaluate_policy(P, nS, nA, value_function, policy, gamma=0.9, tol=1e-4):\n",
        "  while True:\n",
        "    delta = 0\n",
        "    for s in range(nS):\n",
        "      value_s = value_function[s]\n",
        "      q = np.zeros(nA)\n",
        "      value_function[s] = 0\n",
        "      for a in range(nA):\n",
        "        for prob, s_prime, reward, done in P[s][a]:\n",
        "          v_s_prime = value_function[s_prime]\n",
        "          q[a] += prob * (reward + gamma * v_s_prime)\n",
        "      value_function[s] = np.max(q)\n",
        "      delta = max(delta, abs(value_s - value_function[s]))\n",
        "    if delta < tol:\n",
        "      break\n",
        "  return value_function"
      ],
      "metadata": {
        "id": "w8nzRKVjB_DT"
      },
      "execution_count": null,
      "outputs": []
    },
    {
      "cell_type": "code",
      "source": [
        "def value_iteration(P, nS, nA, gamma=0.9, tol=1e-4):\n",
        "    '''\n",
        "    parameters:\n",
        "        P: transition probability matrix\n",
        "        nS: number of states\n",
        "        nA: number of actions\n",
        "        gamma: discount factor\n",
        "        tol: tolerance for convergence\n",
        "    returns:\n",
        "        value_function: value function for each state\n",
        "        policy: policy for each state\n",
        "    '''\n",
        "    # initialize value function and policy\n",
        "    value_function = np.zeros(nS)\n",
        "    policy = np.zeros(nS, dtype=int)\n",
        "\n",
        "    # Implement value iteration here #\n",
        "    value_function = evaluate_policy(P, nS, nA, value_function, policy, gamma, tol)\n",
        "    policy, _ = improve_policy(P, nS, nA, value_function, policy, gamma, tol)\n",
        "    return value_function, policy"
      ],
      "metadata": {
        "id": "qyxAkwb7hnWM"
      },
      "execution_count": null,
      "outputs": []
    },
    {
      "cell_type": "code",
      "source": [
        "# create FrozenLake environment note that we are using a deterministic environment change is_slippery to True to use a stochastic environment\n",
        "env = gym.make(\"FrozenLake-v1\", is_slippery=True)\n",
        "# reset environment to start state\n",
        "env.reset()\n",
        "# run value iteration algorithm\n",
        "value_function, policy = value_iteration(env.P, env.nS, env.nA, gamma=GAMMA, tol=1e-4)\n"
      ],
      "metadata": {
        "id": "RB5iXSC20obw"
      },
      "execution_count": null,
      "outputs": []
    },
    {
      "cell_type": "code",
      "source": [
        "show_values_on_table(policy, show_policy = True)"
      ],
      "metadata": {
        "id": "qL1-PVIeA5ji",
        "colab": {
          "base_uri": "https://localhost:8080/",
          "height": 430
        },
        "outputId": "380e1fc8-1d96-4c1d-80dc-3c262a0f5c2a"
      },
      "execution_count": null,
      "outputs": [
        {
          "output_type": "display_data",
          "data": {
            "text/plain": [
              "<Figure size 640x480 with 1 Axes>"
            ],
            "image/png": "[encoded data removed]"
          },
          "metadata": {}
        }
      ]
    },
    {
      "cell_type": "code",
      "source": [
        "show_values_on_table(value_function, show_policy = False)"
      ],
      "metadata": {
        "colab": {
          "base_uri": "https://localhost:8080/",
          "height": 430
        },
        "id": "lH2UnlJ2EllE",
        "outputId": "60125240-e812-4b58-cd02-9fcb770cf433"
      },
      "execution_count": null,
      "outputs": [
        {
          "output_type": "display_data",
          "data": {
            "text/plain": [
              "<Figure size 640x480 with 1 Axes>"
            ],
            "image/png": "[encoded data removed]"
          },
          "metadata": {}
        }
      ]
    },
    {
      "cell_type": "code",
      "source": [
        "env = gym.make(\"FrozenLake-v1\", is_slippery=False)\n",
        "env.reset()\n",
        "for s in range(env.observation_space.n):\n",
        "    for a in range(env.action_space.n):\n",
        "        transitions = env.P[s][a]\n",
        "        for p, s_next, r, done in transitions:\n",
        "            print(f\"State {s}, action {a}, transition to state {s_next} with reward {r}\")"
      ],
      "metadata": {
        "colab": {
          "base_uri": "https://localhost:8080/"
        },
        "id": "4DQi4NSM1Tgk",
        "outputId": "eea52db0-7142-4934-b240-89a76cb39f04"
      },
      "execution_count": null,
      "outputs": [
        {
          "output_type": "stream",
          "name": "stdout",
          "text": [
            "State 0, action 0, transition to state 0 with reward 0.0\n",
            "State 0, action 1, transition to state 4 with reward 0.0\n",
            "State 0, action 2, transition to state 1 with reward 0.0\n",
            "State 0, action 3, transition to state 0 with reward 0.0\n",
            "State 1, action 0, transition to state 0 with reward 0.0\n",
            "State 1, action 1, transition to state 5 with reward 0.0\n",
            "State 1, action 2, transition to state 2 with reward 0.0\n",
            "State 1, action 3, transition to state 1 with reward 0.0\n",
            "State 2, action 0, transition to state 1 with reward 0.0\n",
            "State 2, action 1, transition to state 6 with reward 0.0\n",
            "State 2, action 2, transition to state 3 with reward 0.0\n",
            "State 2, action 3, transition to state 2 with reward 0.0\n",
            "State 3, action 0, transition to state 2 with reward 0.0\n",
            "State 3, action 1, transition to state 7 with reward 0.0\n",
            "State 3, action 2, transition to state 3 with reward 0.0\n",
            "State 3, action 3, transition to state 3 with reward 0.0\n",
            "State 4, action 0, transition to state 4 with reward 0.0\n",
            "State 4, action 1, transition to state 8 with reward 0.0\n",
            "State 4, action 2, transition to state 5 with reward 0.0\n",
            "State 4, action 3, transition to state 0 with reward 0.0\n",
            "State 5, action 0, transition to state 5 with reward 0\n",
            "State 5, action 1, transition to state 5 with reward 0\n",
            "State 5, action 2, transition to state 5 with reward 0\n",
            "State 5, action 3, transition to state 5 with reward 0\n",
            "State 6, action 0, transition to state 5 with reward 0.0\n",
            "State 6, action 1, transition to state 10 with reward 0.0\n",
            "State 6, action 2, transition to state 7 with reward 0.0\n",
            "State 6, action 3, transition to state 2 with reward 0.0\n",
            "State 7, action 0, transition to state 7 with reward 0\n",
            "State 7, action 1, transition to state 7 with reward 0\n",
            "State 7, action 2, transition to state 7 with reward 0\n",
            "State 7, action 3, transition to state 7 with reward 0\n",
            "State 8, action 0, transition to state 8 with reward 0.0\n",
            "State 8, action 1, transition to state 12 with reward 0.0\n",
            "State 8, action 2, transition to state 9 with reward 0.0\n",
            "State 8, action 3, transition to state 4 with reward 0.0\n",
            "State 9, action 0, transition to state 8 with reward 0.0\n",
            "State 9, action 1, transition to state 13 with reward 0.0\n",
            "State 9, action 2, transition to state 10 with reward 0.0\n",
            "State 9, action 3, transition to state 5 with reward 0.0\n",
            "State 10, action 0, transition to state 9 with reward 0.0\n",
            "State 10, action 1, transition to state 14 with reward 0.0\n",
            "State 10, action 2, transition to state 11 with reward 0.0\n",
            "State 10, action 3, transition to state 6 with reward 0.0\n",
            "State 11, action 0, transition to state 11 with reward 0\n",
            "State 11, action 1, transition to state 11 with reward 0\n",
            "State 11, action 2, transition to state 11 with reward 0\n",
            "State 11, action 3, transition to state 11 with reward 0\n",
            "State 12, action 0, transition to state 12 with reward 0\n",
            "State 12, action 1, transition to state 12 with reward 0\n",
            "State 12, action 2, transition to state 12 with reward 0\n",
            "State 12, action 3, transition to state 12 with reward 0\n",
            "State 13, action 0, transition to state 12 with reward 0.0\n",
            "State 13, action 1, transition to state 13 with reward 0.0\n",
            "State 13, action 2, transition to state 14 with reward 0.0\n",
            "State 13, action 3, transition to state 9 with reward 0.0\n",
            "State 14, action 0, transition to state 13 with reward 0.0\n",
            "State 14, action 1, transition to state 14 with reward 0.0\n",
            "State 14, action 2, transition to state 15 with reward 1.0\n",
            "State 14, action 3, transition to state 10 with reward 0.0\n",
            "State 15, action 0, transition to state 15 with reward 0\n",
            "State 15, action 1, transition to state 15 with reward 0\n",
            "State 15, action 2, transition to state 15 with reward 0\n",
            "State 15, action 3, transition to state 15 with reward 0\n"
          ]
        }
      ]
    }
  ]
}